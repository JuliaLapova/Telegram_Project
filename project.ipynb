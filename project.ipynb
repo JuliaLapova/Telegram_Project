{
 "cells": [
  {
   "cell_type": "code",
   "execution_count": 2,
   "metadata": {},
   "outputs": [
    {
     "name": "stdout",
     "output_type": "stream",
     "text": [
      "Collecting onnxoptimizer"
     ]
    },
    {
     "name": "stderr",
     "output_type": "stream",
     "text": [
      "\n",
      "[notice] A new release of pip is available: 24.3.1 -> 25.0.1\n",
      "[notice] To update, run: c:\\users\\пользователь\\ml_models\\ml_env\\scripts\\python.exe -m pip install --upgrade pip\n"
     ]
    },
    {
     "name": "stdout",
     "output_type": "stream",
     "text": [
      "\n",
      "  Downloading onnxoptimizer-0.3.13-cp39-cp39-win_amd64.whl.metadata (3.3 kB)\n",
      "Requirement already satisfied: onnx in c:\\users\\пользователь\\ml_models\\ml_env\\lib\\site-packages (from onnxoptimizer) (1.16.1)\n",
      "Requirement already satisfied: numpy>=1.20 in c:\\users\\пользователь\\ml_models\\ml_env\\lib\\site-packages (from onnx->onnxoptimizer) (2.0.2)\n",
      "Requirement already satisfied: protobuf>=3.20.2 in c:\\users\\пользователь\\ml_models\\ml_env\\lib\\site-packages (from onnx->onnxoptimizer) (5.29.3)\n",
      "Downloading onnxoptimizer-0.3.13-cp39-cp39-win_amd64.whl (381 kB)\n",
      "Installing collected packages: onnxoptimizer\n",
      "Successfully installed onnxoptimizer-0.3.13\n"
     ]
    }
   ],
   "source": [
    "!pip install onnxoptimizer"
   ]
  },
  {
   "cell_type": "code",
   "execution_count": 3,
   "metadata": {},
   "outputs": [],
   "source": [
    "import torch\n",
    "import torch.nn as nn\n",
    "import torch.onnx\n",
    "import onnx\n",
    "import onnxruntime as ort\n",
    "import numpy as np\n",
    "from onnxruntime.quantization import quantize_dynamic, QuantType\n",
    "import onnxoptimizer\n",
    "import os\n",
    "from onnxruntime.transformers.optimizer import optimize_model"
   ]
  },
  {
   "cell_type": "markdown",
   "metadata": {},
   "source": [
    "# Задание 1"
   ]
  },
  {
   "cell_type": "code",
   "execution_count": 4,
   "metadata": {},
   "outputs": [],
   "source": [
    "# Определяем простую нейросеть\n",
    "class SimpleNN(nn.Module):\n",
    "    def __init__(self):\n",
    "        super(SimpleNN, self).__init__()\n",
    "        self.fc1 = nn.Linear(10, 20)\n",
    "        self.fc2 = nn.Linear(20, 5)\n",
    "    \n",
    "    def forward(self, x):\n",
    "        x = torch.relu(self.fc1(x))\n",
    "        x = self.fc2(x)\n",
    "        return x"
   ]
  },
  {
   "cell_type": "code",
   "execution_count": 5,
   "metadata": {},
   "outputs": [
    {
     "data": {
      "text/plain": [
       "SimpleNN(\n",
       "  (fc1): Linear(in_features=10, out_features=20, bias=True)\n",
       "  (fc2): Linear(in_features=20, out_features=5, bias=True)\n",
       ")"
      ]
     },
     "execution_count": 5,
     "metadata": {},
     "output_type": "execute_result"
    }
   ],
   "source": [
    "# Создаём модель и инициализируем случайные веса\n",
    "model = SimpleNN()\n",
    "model.eval()"
   ]
  },
  {
   "cell_type": "code",
   "execution_count": 6,
   "metadata": {},
   "outputs": [],
   "source": [
    "# Создаём тестовый вход\n",
    "dummy_input = torch.randn(4, 10)"
   ]
  },
  {
   "cell_type": "code",
   "execution_count": 7,
   "metadata": {},
   "outputs": [],
   "source": [
    "# Экспорт в ONNX с динамическими осями\n",
    "onnx_path = \"model.onnx\"\n",
    "dynamic_axes = {'input': {0: 'batch_size'}, 'output': {0: 'batch_size'}}"
   ]
  },
  {
   "cell_type": "code",
   "execution_count": 8,
   "metadata": {},
   "outputs": [],
   "source": [
    "torch.onnx.export(model, dummy_input, onnx_path, \n",
    "                  input_names=['input'], output_names=['output'],\n",
    "                  dynamic_axes=dynamic_axes, opset_version=11)"
   ]
  },
  {
   "cell_type": "code",
   "execution_count": 9,
   "metadata": {},
   "outputs": [],
   "source": [
    "# Проверяем корректность: загружаем модель ONNX и сравниваем предсказания\n",
    "onnx_model = onnx.load(onnx_path)\n",
    "onnx.checker.check_model(onnx_model)"
   ]
  },
  {
   "cell_type": "code",
   "execution_count": 10,
   "metadata": {},
   "outputs": [],
   "source": [
    "# Создаём сессию ONNX Runtime\n",
    "ort_session = ort.InferenceSession(onnx_path)"
   ]
  },
  {
   "cell_type": "code",
   "execution_count": 11,
   "metadata": {},
   "outputs": [],
   "source": [
    "# Преобразуем входные данные в формат numpy\n",
    "input_numpy = dummy_input.numpy()\n",
    "onnx_inputs = {ort_session.get_inputs()[0].name: input_numpy}\n",
    "onnx_outputs = ort_session.run(None, onnx_inputs)"
   ]
  },
  {
   "cell_type": "code",
   "execution_count": 12,
   "metadata": {},
   "outputs": [
    {
     "name": "stdout",
     "output_type": "stream",
     "text": [
      "Разница между предсказаниями PyTorch и ONNX: 4.4703484e-08\n"
     ]
    }
   ],
   "source": [
    "# Сравниваем с PyTorch\n",
    "pytorch_outputs = model(dummy_input).detach().numpy()\n",
    "print(\"Разница между предсказаниями PyTorch и ONNX:\", np.max(np.abs(pytorch_outputs - onnx_outputs[0])))"
   ]
  },
  {
   "cell_type": "markdown",
   "metadata": {},
   "source": [
    "# Задание 2"
   ]
  },
  {
   "cell_type": "code",
   "execution_count": 13,
   "metadata": {},
   "outputs": [
    {
     "name": "stderr",
     "output_type": "stream",
     "text": [
      "WARNING:root:Please consider to run pre-processing before quantization. Refer to example: https://github.com/microsoft/onnxruntime-inference-examples/blob/main/quantization/image_classification/cpu/ReadMe.md \n"
     ]
    }
   ],
   "source": [
    "# Квантование модели в ONNX Runtime\n",
    "quantized_model_path = \"model_quantized.onnx\"\n",
    "quantize_dynamic(onnx_path, quantized_model_path, weight_type=QuantType.QInt8)"
   ]
  },
  {
   "cell_type": "code",
   "execution_count": 14,
   "metadata": {},
   "outputs": [
    {
     "name": "stdout",
     "output_type": "stream",
     "text": [
      "Размер исходной модели: 1.73 KB\n",
      "Размер квантованной модели: 2.51 KB\n"
     ]
    }
   ],
   "source": [
    "# Определяем разницу в размере между исходной и квантованной моделью\n",
    "original_size = os.path.getsize(onnx_path) / 1024  # в КБ\n",
    "quantized_size = os.path.getsize(quantized_model_path) / 1024  # в КБ\n",
    "print(f\"Размер исходной модели: {original_size:.2f} KB\")\n",
    "print(f\"Размер квантованной модели: {quantized_size:.2f} KB\")"
   ]
  },
  {
   "cell_type": "code",
   "execution_count": 15,
   "metadata": {},
   "outputs": [],
   "source": [
    "# Проверяем предсказания квантованной модели\n",
    "ort_session_quantized = ort.InferenceSession(quantized_model_path)\n",
    "quantized_outputs = ort_session_quantized.run(None, onnx_inputs)"
   ]
  },
  {
   "cell_type": "code",
   "execution_count": 16,
   "metadata": {},
   "outputs": [
    {
     "name": "stdout",
     "output_type": "stream",
     "text": [
      "Разница между предсказаниями ONNX и квантованной ONNX: 0.23362696\n"
     ]
    }
   ],
   "source": [
    "# Оценка разницы в предсказаниях\n",
    "print(\"Разница между предсказаниями ONNX и квантованной ONNX:\", np.max(np.abs(onnx_outputs[0] - quantized_outputs[0])))"
   ]
  },
  {
   "cell_type": "markdown",
   "metadata": {},
   "source": [
    "# Задание 3"
   ]
  },
  {
   "cell_type": "code",
   "execution_count": 17,
   "metadata": {},
   "outputs": [],
   "source": [
    "# Оптимизация модели в ONNX с использованием opt_level=1\n",
    "optimized_model_path = \"model_optimized.onnx\"\n",
    "optimized_model = optimize_model(onnx_path, opt_level=1)\n",
    "optimized_model.save_model_to_file(optimized_model_path)"
   ]
  },
  {
   "cell_type": "code",
   "execution_count": 18,
   "metadata": {},
   "outputs": [
    {
     "name": "stdout",
     "output_type": "stream",
     "text": [
      "Разница между предсказаниями ONNX и оптимизированной ONNX: 0.0\n"
     ]
    }
   ],
   "source": [
    "# Проверяем предсказания оптимизированной модели\n",
    "ort_session_optimized = ort.InferenceSession(optimized_model_path)\n",
    "optimized_outputs = ort_session_optimized.run(None, onnx_inputs)\n",
    "\n",
    "# Оценка разницы в предсказаниях\n",
    "print(\"Разница между предсказаниями ONNX и оптимизированной ONNX:\", np.max(np.abs(onnx_outputs[0] - optimized_outputs[0])))"
   ]
  },
  {
   "cell_type": "code",
   "execution_count": 19,
   "metadata": {},
   "outputs": [
    {
     "name": "stdout",
     "output_type": "stream",
     "text": [
      "Размер исходной модели: 1.73 KB\n",
      "Размер квантованной модели: 2.51 KB\n",
      "Размер оптимизированной модели: 1.91 KB\n"
     ]
    }
   ],
   "source": [
    "# Определяем разницу в размере между исходной и квантованной моделью\n",
    "original_size = os.path.getsize(onnx_path) / 1024  # в КБ\n",
    "quantized_size = os.path.getsize(quantized_model_path) / 1024  # в КБ\n",
    "optimized_size = os.path.getsize(optimized_model_path) / 1024  # в КБ\n",
    "print(f\"Размер исходной модели: {original_size:.2f} KB\")\n",
    "print(f\"Размер квантованной модели: {quantized_size:.2f} KB\")\n",
    "print(f\"Размер оптимизированной модели: {optimized_size:.2f} KB\")"
   ]
  },
  {
   "cell_type": "code",
   "execution_count": null,
   "metadata": {},
   "outputs": [],
   "source": []
  }
 ],
 "metadata": {
  "kernelspec": {
   "display_name": "Python 3 (ipykernel)",
   "language": "python",
   "name": "python3"
  },
  "language_info": {
   "codemirror_mode": {
    "name": "ipython",
    "version": 3
   },
   "file_extension": ".py",
   "mimetype": "text/x-python",
   "name": "python",
   "nbconvert_exporter": "python",
   "pygments_lexer": "ipython3",
   "version": "3.9.0"
  }
 },
 "nbformat": 4,
 "nbformat_minor": 4
}
